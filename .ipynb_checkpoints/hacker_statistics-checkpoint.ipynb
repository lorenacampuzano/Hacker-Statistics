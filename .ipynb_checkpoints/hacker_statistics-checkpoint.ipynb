{
 "cells": [
  {
   "cell_type": "code",
   "execution_count": 1,
   "metadata": {},
   "outputs": [],
   "source": [
    "import numpy as np\n",
    "import matplotlib.pyplot as plt"
   ]
  },
  {
   "cell_type": "code",
   "execution_count": 2,
   "metadata": {},
   "outputs": [],
   "source": [
    "# Seed to have te same random numbers and repeat the simulation \n",
    "np.random.seed(123)"
   ]
  },
  {
   "cell_type": "code",
   "execution_count": 22,
   "metadata": {},
   "outputs": [],
   "source": [
    "ends_steps = [] # To store the final step of every game\n",
    "numbers_games = 10000\n",
    "\n",
    "# Games simulation \n",
    "for play in range(numbers_games):\n",
    "    \n",
    "    random_walk = [0] # To store the steps of every game\n",
    "    \n",
    "    # Dice roll and step simulation\n",
    "    for x in range(100):\n",
    "\n",
    "        step = random_walk[-1]\n",
    "        dice = np.random.randint(1,7)\n",
    "\n",
    "        if dice <= 2:\n",
    "            step = max(0, step - 1) # To avoid negative numbers -> We can't go down the stairs if we stay in the low level\n",
    "        elif dice <= 5:\n",
    "            step += 1\n",
    "        else:\n",
    "            step += np.random.randint(1,7)\n",
    "        \n",
    "        if np.random.rand() < 0.001: # You're a bit clumsy and you have a 0.1% chance of falling down. \n",
    "            step = 0\n",
    "            \n",
    "        random_walk.append(step)\n",
    "    \n",
    "    ends_steps.append(random_walk[-1])\n",
    "    "
   ]
  },
  {
   "cell_type": "code",
   "execution_count": 23,
   "metadata": {},
   "outputs": [
    {
     "data": {
      "image/png": "[encoded data removed]",
      "text/plain": [
       "<Figure size 432x288 with 1 Axes>"
      ]
     },
     "metadata": {
      "needs_background": "light"
     },
     "output_type": "display_data"
    }
   ],
   "source": [
    "# Histogram to see better the finals steps in every game\n",
    "\n",
    "plt.hist(ends_steps, bins = 10)\n",
    "plt.xlabel(\"Final step\")\n",
    "plt.grid()\n",
    "plt.show()"
   ]
  },
  {
   "cell_type": "code",
   "execution_count": 24,
   "metadata": {},
   "outputs": [
    {
     "name": "stdout",
     "output_type": "stream",
     "text": [
      "0.775\n"
     ]
    }
   ],
   "source": [
    "# Calculus of Frequentist probability \n",
    "\n",
    "steps_over_60 = [step for step in ends_steps if step >= 60]\n",
    "probability_60 = len(steps_over_60) / numbers_games \n",
    "print(probability_60)"
   ]
  },
  {
   "cell_type": "code",
   "execution_count": null,
   "metadata": {},
   "outputs": [],
   "source": []
  }
 ],
 "metadata": {
  "kernelspec": {
   "display_name": "Python 3",
   "language": "python",
   "name": "python3"
  },
  "language_info": {
   "codemirror_mode": {
    "name": "ipython",
    "version": 3
   },
   "file_extension": ".py",
   "mimetype": "text/x-python",
   "name": "python",
   "nbconvert_exporter": "python",
   "pygments_lexer": "ipython3",
   "version": "3.7.3"
  }
 },
 "nbformat": 4,
 "nbformat_minor": 2
}
