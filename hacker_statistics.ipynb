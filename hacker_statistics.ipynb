{
 "cells": [
  {
   "cell_type": "code",
   "execution_count": 1,
   "metadata": {},
   "outputs": [],
   "source": [
    "import numpy as np\n",
    "import matplotlib.pyplot as plt"
   ]
  },
  {
   "cell_type": "code",
   "execution_count": 2,
   "metadata": {},
   "outputs": [],
   "source": [
    "# Seed to have te same random numbers and repeat the simulation \n",
    "np.random.seed(123)"
   ]
  },
  {
   "cell_type": "code",
   "execution_count": 8,
   "metadata": {},
   "outputs": [
    {
     "name": "stdout",
     "output_type": "stream",
     "text": [
      "[0, -1, -2, -1, 5, 6, 9, 10, 16, 17, 18, 24, 23, 29, 28, 29, 30, 31, 30, 36, 37, 36, 37, 36, 37, 36, 37, 36, 37, 41, 42, 44, 43, 44, 43, 42, 43, 42, 43, 42, 46, 50, 49, 48, 47, 48, 49, 53, 54, 55, 59, 58, 57, 56, 57, 58, 60, 59, 58, 59, 60, 62, 65, 70, 71, 70, 71, 72, 73, 74, 75, 74, 75, 76, 82, 81, 86, 85, 89, 88, 92, 91, 94, 95, 94, 95, 101, 100, 99, 98, 102, 101, 100, 101, 102, 101, 102, 103, 104, 105, 104]\n"
     ]
    }
   ],
   "source": [
    "# Dice roll simulation \n",
    "random_walk = [0]\n",
    "\n",
    "for play in range(100):\n",
    "    \n",
    "    step = random_walk[-1]\n",
    "    dice = np.random.randint(1,7)\n",
    "    \n",
    "    if dice <= 2:\n",
    "        step = max(0, step - 1) # To avoid negative numbers. We can't\n",
    "    elif dice <= 5:\n",
    "        step += 1\n",
    "    else:\n",
    "        step += np.random.randint(1,7)\n",
    "    \n",
    "    random_walk.append(step)\n",
    "\n",
    "print(random_walk)"
   ]
  },
  {
   "cell_type": "code",
   "execution_count": null,
   "metadata": {},
   "outputs": [],
   "source": []
  },
  {
   "cell_type": "code",
   "execution_count": null,
   "metadata": {},
   "outputs": [],
   "source": []
  }
 ],
 "metadata": {
  "kernelspec": {
   "display_name": "Python 3",
   "language": "python",
   "name": "python3"
  },
  "language_info": {
   "codemirror_mode": {
    "name": "ipython",
    "version": 3
   },
   "file_extension": ".py",
   "mimetype": "text/x-python",
   "name": "python",
   "nbconvert_exporter": "python",
   "pygments_lexer": "ipython3",
   "version": "3.7.3"
  }
 },
 "nbformat": 4,
 "nbformat_minor": 2
}
